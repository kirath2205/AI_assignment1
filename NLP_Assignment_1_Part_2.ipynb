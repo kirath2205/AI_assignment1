{
  "nbformat": 4,
  "nbformat_minor": 0,
  "metadata": {
    "colab": {
      "name": "NLP_Assignment_1_Part_2.ipynb",
      "provenance": [],
      "collapsed_sections": [],
      "include_colab_link": true
    },
    "kernelspec": {
      "name": "python3",
      "display_name": "Python 3"
    },
    "accelerator": "GPU"
  },
  "cells": [
    {
      "cell_type": "markdown",
      "metadata": {
        "id": "view-in-github",
        "colab_type": "text"
      },
      "source": [
        "<a href=\"https://colab.research.google.com/github/kirath2205/AI_assignment2/blob/master/NLP_Assignment_1_Part_2.ipynb\" target=\"_parent\"><img src=\"https://colab.research.google.com/assets/colab-badge.svg\" alt=\"Open In Colab\"/></a>"
      ]
    },
    {
      "cell_type": "code",
      "metadata": {
        "id": "bRELTmck7AH-"
      },
      "source": [
        "import pandas as pd\n",
        "import spacy"
      ],
      "execution_count": null,
      "outputs": []
    },
    {
      "cell_type": "code",
      "metadata": {
        "id": "yWs6pwFs8zx2"
      },
      "source": [
        "df = pd.read_csv('reviews.csv')"
      ],
      "execution_count": null,
      "outputs": []
    },
    {
      "cell_type": "code",
      "metadata": {
        "id": "fUkw5tg77tUx"
      },
      "source": [
        "import spacy,en_core_web_sm\n",
        "import pandas as pd\n",
        "nlp = spacy.load('en_core_web_sm')\n",
        "\n",
        "def noun_adjective_phrase_pairs(string):\n",
        "  doc = nlp(string)\n",
        "  noun_adj_pairs = []\n",
        "  for i in range(len(doc)):\n",
        "      str1=''\n",
        "      np=[]\n",
        "      if doc[i].pos_ == 'NOUN' or doc[i].pos_ == 'PROPN':\n",
        "        str1+=str(doc[i])\n",
        "        np.append(str1)\n",
        "        str1=''\n",
        "\n",
        "      else:\n",
        "        continue\n",
        "\n",
        "      if i!=0 and doc[i-1].pos_=='DET':\n",
        "          k1=str(doc[i-1])\n",
        "          k2=str(doc[i])\n",
        "          str1=k1+' '+k2\n",
        "          np.append(str1)\n",
        "          str1=''\n",
        "\n",
        "      if i!=0 and i!=1 and doc[i-1].pos_ == 'NOUN' and doc[i-2].pos_ == 'DET':\n",
        "        k1=str(doc[i])\n",
        "        k2=str(doc[i-1])\n",
        "        k3 = str(doc[i-2])\n",
        "        str1=k3+' '+k2+' '+k1\n",
        "        np.append(str1)\n",
        "        str1=''\n",
        "      \n",
        "      if i!=0 and i!=1 and doc[i-1].pos_ == 'ADJ' and doc[i-2].pos_ == 'DET':\n",
        "        k1=str(doc[i])\n",
        "        k2=str(doc[i-1])\n",
        "        k3 = str(doc[i-2])\n",
        "        str1=k3+' '+k2+' '+k1\n",
        "        np.append(str1)\n",
        "        str1=''\n",
        "\n",
        "      for j in range(i+1,len(doc)):\n",
        "          str2=''\n",
        "          ap=[]\n",
        "          if doc[j].pos_ == 'ADJ':\n",
        "            str2+=str(doc[j])\n",
        "            ap.append(str2)\n",
        "            str2=''\n",
        "            if doc[j-1].pos_ =='ADV':\n",
        "                  k1=str(doc[j-1])\n",
        "                  k2=str(doc[j])\n",
        "                  str2=k1+' '+k2\n",
        "                  ap.append(str2)\n",
        "          for a in range(len(np)):\n",
        "            for b in range(len(ap)):\n",
        "              noun_adj_pairs.append((np[a],ap[b]))\n",
        "  return noun_adj_pairs\n",
        "\n",
        "\n",
        "\n",
        "        "
      ],
      "execution_count": null,
      "outputs": []
    },
    {
      "cell_type": "code",
      "metadata": {
        "id": "FEhfJPUG78SB"
      },
      "source": [
        "pairs=[]\n",
        "for i in range(len(df)):\n",
        "  pairs.append(noun_adjective_phrase_pairs(df.iloc[i][0]))"
      ],
      "execution_count": null,
      "outputs": []
    },
    {
      "cell_type": "code",
      "metadata": {
        "id": "nGyxaBPD-a4w"
      },
      "source": [
        "#Code to generate Reviews_with_Pairs.csv \n",
        "import pandas as pd\n",
        "d={}\n",
        "reviews=pd.read_csv('reviews.csv')\n",
        "for index, row in reviews.iterrows():\n",
        "    k=str(row['Reviews'])\n",
        "    str1=''\n",
        "    for element in k:\n",
        "        if(element=='\\''):\n",
        "            str1=str1+'\\''\n",
        "        else:\n",
        "            str1=str1+element\n",
        "    pair=noun_adjective_phrase_pairs(str1)\n",
        "    d[str1]=pair\n",
        "dataframe_reviews=pd.DataFrame(columns=['Reviews','Pairs'])\n",
        "for keys in dict:\n",
        "    dataframe_reviews=dataframe_reviews.append({'Reviews':keys,'Pairs':dict.get(keys)},ignore_index=True)\n",
        "print(dataframe_reviews)\n",
        "dataframe_reviews.to_csv('Reviews_with_Pairs.csv')"
      ],
      "execution_count": null,
      "outputs": []
    },
    {
      "cell_type": "code",
      "metadata": {
        "id": "qAgj9GTLBu7w"
      },
      "source": [
        ""
      ],
      "execution_count": null,
      "outputs": []
    },
    {
      "cell_type": "code",
      "metadata": {
        "id": "sdNi5YSsCX-b"
      },
      "source": [
        ""
      ],
      "execution_count": null,
      "outputs": []
    },
    {
      "cell_type": "code",
      "metadata": {
        "id": "acTl4pn0IIos"
      },
      "source": [
        ""
      ],
      "execution_count": null,
      "outputs": []
    },
    {
      "cell_type": "code",
      "metadata": {
        "id": "amKQIgVvsI-U"
      },
      "source": [
        ""
      ],
      "execution_count": null,
      "outputs": []
    },
    {
      "cell_type": "code",
      "metadata": {
        "id": "RgHcm61WtBxc"
      },
      "source": [
        " "
      ],
      "execution_count": null,
      "outputs": []
    },
    {
      "cell_type": "code",
      "metadata": {
        "id": "Fay0cdMh93BD"
      },
      "source": [
        ""
      ],
      "execution_count": null,
      "outputs": []
    },
    {
      "cell_type": "code",
      "metadata": {
        "id": "Xa1cKr03OZ6C"
      },
      "source": [
        ""
      ],
      "execution_count": null,
      "outputs": []
    },
    {
      "cell_type": "code",
      "metadata": {
        "id": "GGiBPxfgJE_L",
        "outputId": "3349b3d5-9193-43b0-fa65-0c1c367a19f2",
        "colab": {
          "base_uri": "https://localhost:8080/",
          "height": 195
        }
      },
      "source": [
        ""
      ],
      "execution_count": null,
      "outputs": [
        {
          "output_type": "execute_result",
          "data": {
            "text/html": [
              "<div>\n",
              "<style scoped>\n",
              "    .dataframe tbody tr th:only-of-type {\n",
              "        vertical-align: middle;\n",
              "    }\n",
              "\n",
              "    .dataframe tbody tr th {\n",
              "        vertical-align: top;\n",
              "    }\n",
              "\n",
              "    .dataframe thead th {\n",
              "        text-align: right;\n",
              "    }\n",
              "</style>\n",
              "<table border=\"1\" class=\"dataframe\">\n",
              "  <thead>\n",
              "    <tr style=\"text-align: right;\">\n",
              "      <th></th>\n",
              "      <th>Reviews</th>\n",
              "    </tr>\n",
              "  </thead>\n",
              "  <tbody>\n",
              "    <tr>\n",
              "      <th>0</th>\n",
              "      <td>Editing story and reading interface is not use...</td>\n",
              "    </tr>\n",
              "    <tr>\n",
              "      <th>1</th>\n",
              "      <td>A horrendous playground for dozens of differen...</td>\n",
              "    </tr>\n",
              "    <tr>\n",
              "      <th>2</th>\n",
              "      <td>I am a member and my app keeps crashing, and s...</td>\n",
              "    </tr>\n",
              "    <tr>\n",
              "      <th>3</th>\n",
              "      <td>Such a good app but the subscription sucks!! I...</td>\n",
              "    </tr>\n",
              "    <tr>\n",
              "      <th>4</th>\n",
              "      <td>I was literally forced to download this app de...</td>\n",
              "    </tr>\n",
              "  </tbody>\n",
              "</table>\n",
              "</div>"
            ],
            "text/plain": [
              "                                             Reviews\n",
              "0  Editing story and reading interface is not use...\n",
              "1  A horrendous playground for dozens of differen...\n",
              "2  I am a member and my app keeps crashing, and s...\n",
              "3  Such a good app but the subscription sucks!! I...\n",
              "4  I was literally forced to download this app de..."
            ]
          },
          "metadata": {
            "tags": []
          },
          "execution_count": 12
        }
      ]
    },
    {
      "cell_type": "code",
      "metadata": {
        "id": "hNYzbLuGPftc"
      },
      "source": [
        ""
      ],
      "execution_count": null,
      "outputs": []
    },
    {
      "cell_type": "code",
      "metadata": {
        "id": "n9UOw3-bJjoK"
      },
      "source": [
        ""
      ],
      "execution_count": null,
      "outputs": []
    },
    {
      "cell_type": "code",
      "metadata": {
        "id": "S32EMA29JtQl"
      },
      "source": [
        ""
      ],
      "execution_count": null,
      "outputs": []
    },
    {
      "cell_type": "code",
      "metadata": {
        "id": "aDumNldGKzgR"
      },
      "source": [
        ""
      ],
      "execution_count": null,
      "outputs": []
    },
    {
      "cell_type": "code",
      "metadata": {
        "id": "kP6HRiWsK4cq"
      },
      "source": [
        ""
      ],
      "execution_count": null,
      "outputs": []
    },
    {
      "cell_type": "code",
      "metadata": {
        "id": "aa4QazDTLjtO",
        "outputId": "d504e6ec-ddf4-4ba8-ed4a-1d9a51fb19a5",
        "colab": {
          "base_uri": "https://localhost:8080/",
          "height": 195
        }
      },
      "source": [
        "# #d_rev\n",
        "# graph_dataframe=pd.DataFrame(columns=['Pairs','Frequency'])\n",
        "# for item in d_rev:\n",
        "#   graph_dataframe=graph_dataframe.append({'Pairs':item[0],'Frequency':item[1]},ignore_index=True)\n",
        "\n",
        "# k1=graph_dataframe.iloc[0:4,:]\n",
        "# k2=graph_dataframe.iloc[6:,:]\n",
        "# k3=k1.append(k2,ignore_index=True)\n",
        "# k3.index+=1\n",
        "# k3.head()"
      ],
      "execution_count": null,
      "outputs": [
        {
          "output_type": "execute_result",
          "data": {
            "text/html": [
              "<div>\n",
              "<style scoped>\n",
              "    .dataframe tbody tr th:only-of-type {\n",
              "        vertical-align: middle;\n",
              "    }\n",
              "\n",
              "    .dataframe tbody tr th {\n",
              "        vertical-align: top;\n",
              "    }\n",
              "\n",
              "    .dataframe thead th {\n",
              "        text-align: right;\n",
              "    }\n",
              "</style>\n",
              "<table border=\"1\" class=\"dataframe\">\n",
              "  <thead>\n",
              "    <tr style=\"text-align: right;\">\n",
              "      <th></th>\n",
              "      <th>Pairs</th>\n",
              "      <th>Frequency</th>\n",
              "    </tr>\n",
              "  </thead>\n",
              "  <tbody>\n",
              "    <tr>\n",
              "      <th>1</th>\n",
              "      <td>(article, free)</td>\n",
              "      <td>6</td>\n",
              "    </tr>\n",
              "    <tr>\n",
              "      <th>2</th>\n",
              "      <td>(app, worth)</td>\n",
              "      <td>3</td>\n",
              "    </tr>\n",
              "    <tr>\n",
              "      <th>3</th>\n",
              "      <td>(a single article, free)</td>\n",
              "      <td>3</td>\n",
              "    </tr>\n",
              "    <tr>\n",
              "      <th>4</th>\n",
              "      <td>(app, closed)</td>\n",
              "      <td>2</td>\n",
              "    </tr>\n",
              "    <tr>\n",
              "      <th>5</th>\n",
              "      <td>(app, optional)</td>\n",
              "      <td>2</td>\n",
              "    </tr>\n",
              "  </tbody>\n",
              "</table>\n",
              "</div>"
            ],
            "text/plain": [
              "                      Pairs Frequency\n",
              "1           (article, free)         6\n",
              "2              (app, worth)         3\n",
              "3  (a single article, free)         3\n",
              "4             (app, closed)         2\n",
              "5           (app, optional)         2"
            ]
          },
          "metadata": {
            "tags": []
          },
          "execution_count": 69
        }
      ]
    },
    {
      "cell_type": "code",
      "metadata": {
        "id": "TqGa_WL-K9Uv"
      },
      "source": [
        "from google.colab import drive\n",
        "drive.mount('/content/drive')"
      ],
      "execution_count": null,
      "outputs": []
    },
    {
      "cell_type": "code",
      "metadata": {
        "id": "V47DBAbSLrqX"
      },
      "source": [
        "# import pandas as pd\n",
        "# dic={}\n",
        "# reviews=pd.read_csv('reviews.csv')\n",
        "# for index, row in reviews.iterrows():\n",
        "#     k=str(row['Reviews'])\n",
        "#     str1=''\n",
        "#     for element in k:\n",
        "#         if(element=='\\''):\n",
        "#             str1=str1+'\\''\n",
        "#         else:\n",
        "#             str1=str1+element\n",
        "#     pair=noun_adjective_phrase_pairs(str1)\n",
        "#     dict[str1]=pair\n",
        "# dataframe_reviews=pd.DataFrame(columns=['Reviews','Pairs'])\n",
        "# for keys in dict:\n",
        "#     dataframe_reviews=dataframe_reviews.append({'Reviews':keys,'Pairs':dict.get(keys)},ignore_index=True)\n",
        "# print(dataframe_reviews)\n",
        "# dataframe_reviews.to_csv('Reviews_with_Pairs.csv')"
      ],
      "execution_count": null,
      "outputs": []
    }
  ]
}